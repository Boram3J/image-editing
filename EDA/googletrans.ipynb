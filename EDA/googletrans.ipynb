{
 "cells": [
  {
   "cell_type": "code",
   "execution_count": 2,
   "id": "91f51ca4",
   "metadata": {
    "ExecuteTime": {
     "end_time": "2022-08-12T01:40:11.153890Z",
     "start_time": "2022-08-12T01:40:11.142142Z"
    }
   },
   "outputs": [],
   "source": [
    "# pip install googletrans==4.0.0-rc1\n",
    "import googletrans\n",
    "from googletrans import Translator"
   ]
  },
  {
   "cell_type": "code",
   "execution_count": 3,
   "id": "e7b7bf15",
   "metadata": {
    "ExecuteTime": {
     "end_time": "2022-08-12T01:40:14.541233Z",
     "start_time": "2022-08-12T01:40:14.533237Z"
    }
   },
   "outputs": [],
   "source": [
    "text1 = \"Hello welcome to my website!\"\n",
    "text2 = \"안녕하세요! 환영합니다.\"\n",
    "text3 = \"한글을 영어로 번역합니다\""
   ]
  },
  {
   "cell_type": "code",
   "execution_count": 4,
   "id": "390ddaf7",
   "metadata": {
    "ExecuteTime": {
     "end_time": "2022-08-12T01:40:19.075292Z",
     "start_time": "2022-08-12T01:40:19.036952Z"
    }
   },
   "outputs": [],
   "source": [
    "translator = Translator()"
   ]
  },
  {
   "cell_type": "code",
   "execution_count": 5,
   "id": "8772df31",
   "metadata": {
    "ExecuteTime": {
     "end_time": "2022-08-12T01:40:23.366262Z",
     "start_time": "2022-08-12T01:40:22.581412Z"
    }
   },
   "outputs": [
    {
     "name": "stdout",
     "output_type": "stream",
     "text": [
      "Detected(lang=en, confidence=None)\n",
      "Detected(lang=ko, confidence=None)\n",
      "Detected(lang=ko, confidence=None)\n"
     ]
    }
   ],
   "source": [
    "# 언어 감지\n",
    "print(translator.detect(text1))\n",
    "print(translator.detect(text2))\n",
    "print(translator.detect(text3))"
   ]
  },
  {
   "cell_type": "code",
   "execution_count": 6,
   "id": "065b3296",
   "metadata": {
    "ExecuteTime": {
     "end_time": "2022-08-12T01:40:34.061159Z",
     "start_time": "2022-08-12T01:40:31.981358Z"
    }
   },
   "outputs": [],
   "source": [
    "trans1 = translator.translate(text1, src='en', dest='ja')\n",
    "trans2 = translator.translate(text2, src='ko', dest='de')\n",
    "trans3 = translator.translate(text3, src='ko', dest='en')"
   ]
  },
  {
   "cell_type": "code",
   "execution_count": 7,
   "id": "f7675ec9",
   "metadata": {
    "ExecuteTime": {
     "end_time": "2022-08-12T01:40:40.758850Z",
     "start_time": "2022-08-12T01:40:40.750157Z"
    }
   },
   "outputs": [
    {
     "name": "stdout",
     "output_type": "stream",
     "text": [
      "English to Japanese:  こんにちは私のウェブサイトへようこそ！\n",
      "Korean to Germany:  hallo!willkommen.\n",
      "Korean to English:  Translate Hangul into English\n"
     ]
    }
   ],
   "source": [
    "print(\"English to Japanese: \", trans1.text)\n",
    "print(\"Korean to Germany: \", trans2.text)\n",
    "print(\"Korean to English: \", trans3.text)"
   ]
  }
 ],
 "metadata": {
  "kernelspec": {
   "display_name": "Python 3 (ipykernel)",
   "language": "python",
   "name": "python3"
  },
  "language_info": {
   "codemirror_mode": {
    "name": "ipython",
    "version": 3
   },
   "file_extension": ".py",
   "mimetype": "text/x-python",
   "name": "python",
   "nbconvert_exporter": "python",
   "pygments_lexer": "ipython3",
   "version": "3.8.13"
  },
  "toc": {
   "base_numbering": 1,
   "nav_menu": {},
   "number_sections": true,
   "sideBar": true,
   "skip_h1_title": false,
   "title_cell": "Table of Contents",
   "title_sidebar": "Contents",
   "toc_cell": false,
   "toc_position": {},
   "toc_section_display": true,
   "toc_window_display": false
  },
  "varInspector": {
   "cols": {
    "lenName": 16,
    "lenType": 16,
    "lenVar": 40
   },
   "kernels_config": {
    "python": {
     "delete_cmd_postfix": "",
     "delete_cmd_prefix": "del ",
     "library": "var_list.py",
     "varRefreshCmd": "print(var_dic_list())"
    },
    "r": {
     "delete_cmd_postfix": ") ",
     "delete_cmd_prefix": "rm(",
     "library": "var_list.r",
     "varRefreshCmd": "cat(var_dic_list()) "
    }
   },
   "types_to_exclude": [
    "module",
    "function",
    "builtin_function_or_method",
    "instance",
    "_Feature"
   ],
   "window_display": false
  }
 },
 "nbformat": 4,
 "nbformat_minor": 5
}

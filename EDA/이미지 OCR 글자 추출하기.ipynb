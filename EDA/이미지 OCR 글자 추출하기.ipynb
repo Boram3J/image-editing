{
 "cells": [
  {
   "cell_type": "code",
   "execution_count": 4,
   "id": "23b873df",
   "metadata": {
    "ExecuteTime": {
     "end_time": "2022-08-10T00:50:58.201097Z",
     "start_time": "2022-08-10T00:50:58.196097Z"
    }
   },
   "outputs": [],
   "source": [
    "import pytesseract\n",
    "import cv2\n",
    "import matplotlib.pyplot as plt\n",
    "\n",
    "pytesseract.pytesseract.tesseract_cmd = 'C:/Program Files/Tesseract-OCR/tesseract.exe'"
   ]
  },
  {
   "cell_type": "code",
   "execution_count": 5,
   "id": "95c73113",
   "metadata": {
    "ExecuteTime": {
     "end_time": "2022-08-10T00:50:59.074230Z",
     "start_time": "2022-08-10T00:50:59.067549Z"
    }
   },
   "outputs": [],
   "source": [
    "path = 'test.png'\n",
    "image = cv2.imread(path)\n",
    "rgb_image = cv2.cvtColor(image, cv2.COLOR_BGR2RGB)"
   ]
  },
  {
   "cell_type": "markdown",
   "id": "4c1135f8",
   "metadata": {},
   "source": [
    "![test.png](test.png)"
   ]
  },
  {
   "cell_type": "code",
   "execution_count": 8,
   "id": "ac3ed9f4",
   "metadata": {
    "ExecuteTime": {
     "end_time": "2022-08-10T00:52:45.698933Z",
     "start_time": "2022-08-10T00:52:45.516511Z"
    }
   },
   "outputs": [
    {
     "name": "stdout",
     "output_type": "stream",
     "text": [
      "기유\n",
      "\n",
      "김윤웅\n",
      "\n",
      "Kim Yunwoong\n",
      "0123456789#$\n",
      "\n",
      "\n"
     ]
    }
   ],
   "source": [
    "# use Tesseract to OCR the image\n",
    "text = pytesseract.image_to_string(rgb_image, lang='kor+eng')\n",
    "print(text)"
   ]
  }
 ],
 "metadata": {
  "kernelspec": {
   "display_name": "Python 3 (ipykernel)",
   "language": "python",
   "name": "python3"
  },
  "language_info": {
   "codemirror_mode": {
    "name": "ipython",
    "version": 3
   },
   "file_extension": ".py",
   "mimetype": "text/x-python",
   "name": "python",
   "nbconvert_exporter": "python",
   "pygments_lexer": "ipython3",
   "version": "3.8.13"
  },
  "toc": {
   "base_numbering": 1,
   "nav_menu": {},
   "number_sections": true,
   "sideBar": true,
   "skip_h1_title": false,
   "title_cell": "Table of Contents",
   "title_sidebar": "Contents",
   "toc_cell": false,
   "toc_position": {},
   "toc_section_display": true,
   "toc_window_display": false
  },
  "varInspector": {
   "cols": {
    "lenName": 16,
    "lenType": 16,
    "lenVar": 40
   },
   "kernels_config": {
    "python": {
     "delete_cmd_postfix": "",
     "delete_cmd_prefix": "del ",
     "library": "var_list.py",
     "varRefreshCmd": "print(var_dic_list())"
    },
    "r": {
     "delete_cmd_postfix": ") ",
     "delete_cmd_prefix": "rm(",
     "library": "var_list.r",
     "varRefreshCmd": "cat(var_dic_list()) "
    }
   },
   "types_to_exclude": [
    "module",
    "function",
    "builtin_function_or_method",
    "instance",
    "_Feature"
   ],
   "window_display": false
  }
 },
 "nbformat": 4,
 "nbformat_minor": 5
}

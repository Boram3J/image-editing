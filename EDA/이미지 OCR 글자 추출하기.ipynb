{
 "cells": [
  {
   "cell_type": "code",
   "execution_count": 43,
   "id": "23b873df",
   "metadata": {
    "ExecuteTime": {
     "end_time": "2022-08-10T04:16:38.254996Z",
     "start_time": "2022-08-10T04:16:38.248996Z"
    }
   },
   "outputs": [],
   "source": [
    "import cv2\n",
    "import pytesseract\n",
    "from pytesseract import Output\n",
    "\n",
    "import matplotlib.pyplot as plt"
   ]
  },
  {
   "cell_type": "code",
   "execution_count": 44,
   "id": "95c73113",
   "metadata": {
    "ExecuteTime": {
     "end_time": "2022-08-10T04:16:38.957699Z",
     "start_time": "2022-08-10T04:16:38.942643Z"
    }
   },
   "outputs": [],
   "source": [
    "path = 'test.png'\n",
    "image = cv2.imread(path)\n",
    "rgb_image = cv2.cvtColor(image, cv2.COLOR_BGR2RGB)"
   ]
  },
  {
   "cell_type": "markdown",
   "id": "6b84d8b6",
   "metadata": {},
   "source": [
    "![test.png](test.png)"
   ]
  },
  {
   "cell_type": "code",
   "execution_count": 45,
   "id": "ac3ed9f4",
   "metadata": {
    "ExecuteTime": {
     "end_time": "2022-08-10T04:16:40.382414Z",
     "start_time": "2022-08-10T04:16:40.220542Z"
    },
    "scrolled": true
   },
   "outputs": [
    {
     "name": "stdout",
     "output_type": "stream",
     "text": [
      "기유\n",
      "\n",
      "김윤웅\n",
      "\n",
      "Kim Yunwoong\n",
      "0123456789#$\n",
      "\n",
      "\n"
     ]
    }
   ],
   "source": [
    "# use Tesseract to OCR the image\n",
    "text = pytesseract.image_to_string(rgb_image, lang='kor+eng')\n",
    "print(text)"
   ]
  },
  {
   "cell_type": "code",
   "execution_count": 79,
   "id": "3a524a8e",
   "metadata": {
    "ExecuteTime": {
     "end_time": "2022-08-10T04:23:28.801842Z",
     "start_time": "2022-08-10T04:23:28.621050Z"
    }
   },
   "outputs": [
    {
     "data": {
      "text/plain": [
       "['',\n",
       " '',\n",
       " '',\n",
       " '',\n",
       " ' ',\n",
       " '',\n",
       " '',\n",
       " '',\n",
       " '기유',\n",
       " '',\n",
       " '',\n",
       " '',\n",
       " '김',\n",
       " '윤',\n",
       " '웅',\n",
       " '',\n",
       " '',\n",
       " '',\n",
       " 'Kim',\n",
       " 'Yunwoong',\n",
       " '',\n",
       " '0123456789#$',\n",
       " '',\n",
       " '',\n",
       " '',\n",
       " '']"
      ]
     },
     "execution_count": 79,
     "metadata": {},
     "output_type": "execute_result"
    }
   ],
   "source": [
    "results = pytesseract.image_to_data(rgb_image,\n",
    "                                    output_type=Output.DICT,\n",
    "                                    lang='kor+eng',\n",
    "                                    config='--psm 3')\n",
    "\n",
    "results['text']"
   ]
  },
  {
   "cell_type": "code",
   "execution_count": 80,
   "id": "c295ef1f",
   "metadata": {
    "ExecuteTime": {
     "end_time": "2022-08-10T04:23:36.683056Z",
     "start_time": "2022-08-10T04:23:35.077691Z"
    },
    "scrolled": true
   },
   "outputs": [
    {
     "data": {
      "text/plain": [
       "-1"
      ]
     },
     "execution_count": 80,
     "metadata": {},
     "output_type": "execute_result"
    }
   ],
   "source": [
    "for i in range(len(results['text'])):\n",
    "    x = results[\"left\"][i]\n",
    "    y = results[\"top\"][i]\n",
    "    w = results[\"width\"][i]\n",
    "    h = results[\"height\"][i]\n",
    "\n",
    "    cv2.rectangle(image, (x, y), (x + w, y + h), (0, 255, 0), 2)\n",
    "\n",
    "cv2.imshow(\"Image\", image)\n",
    "cv2.waitKey(0)"
   ]
  }
 ],
 "metadata": {
  "kernelspec": {
   "display_name": "Python 3 (ipykernel)",
   "language": "python",
   "name": "python3"
  },
  "language_info": {
   "codemirror_mode": {
    "name": "ipython",
    "version": 3
   },
   "file_extension": ".py",
   "mimetype": "text/x-python",
   "name": "python",
   "nbconvert_exporter": "python",
   "pygments_lexer": "ipython3",
   "version": "3.8.13"
  },
  "toc": {
   "base_numbering": 1,
   "nav_menu": {},
   "number_sections": true,
   "sideBar": true,
   "skip_h1_title": false,
   "title_cell": "Table of Contents",
   "title_sidebar": "Contents",
   "toc_cell": false,
   "toc_position": {},
   "toc_section_display": true,
   "toc_window_display": false
  },
  "varInspector": {
   "cols": {
    "lenName": 16,
    "lenType": 16,
    "lenVar": 40
   },
   "kernels_config": {
    "python": {
     "delete_cmd_postfix": "",
     "delete_cmd_prefix": "del ",
     "library": "var_list.py",
     "varRefreshCmd": "print(var_dic_list())"
    },
    "r": {
     "delete_cmd_postfix": ") ",
     "delete_cmd_prefix": "rm(",
     "library": "var_list.r",
     "varRefreshCmd": "cat(var_dic_list()) "
    }
   },
   "types_to_exclude": [
    "module",
    "function",
    "builtin_function_or_method",
    "instance",
    "_Feature"
   ],
   "window_display": false
  }
 },
 "nbformat": 4,
 "nbformat_minor": 5
}
